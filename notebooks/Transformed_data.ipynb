{
 "cells": [
  {
   "cell_type": "markdown",
   "metadata": {},
   "source": [
    "## Med Data warehouse"
   ]
  },
  {
   "cell_type": "markdown",
   "metadata": {},
   "source": [
    "### Preprocessing before YOLO\n",
    "* This notebook is used to read the data from database and select the photos that are found in the cleaned database "
   ]
  },
  {
   "cell_type": "markdown",
   "metadata": {},
   "source": [
    "#### Importing necessary libraries\n"
   ]
  },
  {
   "cell_type": "code",
   "execution_count": 1,
   "metadata": {},
   "outputs": [],
   "source": [
    "import os\n",
    "import sys\n",
    "import shutil\n",
    "\n",
    "import pandas as pd"
   ]
  },
  {
   "cell_type": "code",
   "execution_count": 40,
   "metadata": {},
   "outputs": [],
   "source": [
    "sys.path.append(os.path.abspath('../scripts'))\n",
    "\n",
    "from database import DbConn\n",
    "from Utils import Util\n",
    "\n",
    "dbconn = DbConn()\n",
    "util = Util()\n",
    "\n",
    "logger = util.logger_setup()"
   ]
  },
  {
   "cell_type": "code",
   "execution_count": 3,
   "metadata": {},
   "outputs": [],
   "source": [
    "data = dbconn.read_data(\"MedData_Transformed\")"
   ]
  },
  {
   "cell_type": "code",
   "execution_count": 4,
   "metadata": {},
   "outputs": [
    {
     "data": {
      "text/html": [
       "<div>\n",
       "<style scoped>\n",
       "    .dataframe tbody tr th:only-of-type {\n",
       "        vertical-align: middle;\n",
       "    }\n",
       "\n",
       "    .dataframe tbody tr th {\n",
       "        vertical-align: top;\n",
       "    }\n",
       "\n",
       "    .dataframe thead th {\n",
       "        text-align: right;\n",
       "    }\n",
       "</style>\n",
       "<table border=\"1\" class=\"dataframe\">\n",
       "  <thead>\n",
       "    <tr style=\"text-align: right;\">\n",
       "      <th></th>\n",
       "      <th>Product</th>\n",
       "      <th>Price</th>\n",
       "      <th>Address</th>\n",
       "      <th>Phone Number</th>\n",
       "      <th>Channel Usernamae</th>\n",
       "      <th>Message Cleaned</th>\n",
       "      <th>Date</th>\n",
       "      <th>Media Path</th>\n",
       "      <th>ID</th>\n",
       "    </tr>\n",
       "  </thead>\n",
       "  <tbody>\n",
       "    <tr>\n",
       "      <th>0</th>\n",
       "      <td>GLUCERNA \\n</td>\n",
       "      <td>3200 birr</td>\n",
       "      <td>Infront of Bole Medhanialem high school \\nOpen...</td>\n",
       "      <td>0911562031/0911587703\\nAdres</td>\n",
       "      <td>@lobelia4cosmetics</td>\n",
       "      <td>GLUCERNA \\nPrice 3200 birr \\nTelegram https://...</td>\n",
       "      <td>2024-07-10 12:26:19</td>\n",
       "      <td>data/photos\\@lobelia4cosmetics_10013.jpg</td>\n",
       "      <td>10013</td>\n",
       "    </tr>\n",
       "    <tr>\n",
       "      <th>1</th>\n",
       "      <td>MIELLE  OIL \\n</td>\n",
       "      <td>2500 birr</td>\n",
       "      <td>Infront of Bole Medhanialem high school \\nOpen...</td>\n",
       "      <td>0911562031/0911587703\\nAdres</td>\n",
       "      <td>@lobelia4cosmetics</td>\n",
       "      <td>MIELLE  OIL \\nPrice 2500 birr \\nTelegram https...</td>\n",
       "      <td>2024-07-10 12:27:02</td>\n",
       "      <td>data/photos\\@lobelia4cosmetics_10014.jpg</td>\n",
       "      <td>10014</td>\n",
       "    </tr>\n",
       "    <tr>\n",
       "      <th>2</th>\n",
       "      <td>now CASTOR OIL 473ML\\n</td>\n",
       "      <td>4000 birr</td>\n",
       "      <td>Infront of Bole Medhanialem high school \\nOpen...</td>\n",
       "      <td>0911562031/0911587703\\nAdres</td>\n",
       "      <td>@lobelia4cosmetics</td>\n",
       "      <td>now CASTOR OIL 473ML\\nPrice 4000 birr \\nTelegr...</td>\n",
       "      <td>2024-07-10 12:27:03</td>\n",
       "      <td>data/photos\\@lobelia4cosmetics_10015.jpg</td>\n",
       "      <td>10015</td>\n",
       "    </tr>\n",
       "    <tr>\n",
       "      <th>3</th>\n",
       "      <td>DAY &amp; NIGHT QUIL \\n</td>\n",
       "      <td>2200 birr\\n</td>\n",
       "      <td>Infront of Bole Medhanialem high school \\nOpen...</td>\n",
       "      <td>0911562031/0911587703\\nAdres</td>\n",
       "      <td>@lobelia4cosmetics</td>\n",
       "      <td>DAY &amp; NIGHT QUIL \\nPrice 2200 birr\\nTelegram h...</td>\n",
       "      <td>2024-07-10 12:27:03</td>\n",
       "      <td>data/photos\\@lobelia4cosmetics_10016.jpg</td>\n",
       "      <td>10016</td>\n",
       "    </tr>\n",
       "    <tr>\n",
       "      <th>4</th>\n",
       "      <td></td>\n",
       "      <td></td>\n",
       "      <td></td>\n",
       "      <td></td>\n",
       "      <td>@lobelia4cosmetics</td>\n",
       "      <td></td>\n",
       "      <td>2024-07-10 12:27:03</td>\n",
       "      <td>data/photos\\@lobelia4cosmetics_10017.jpg</td>\n",
       "      <td>10017</td>\n",
       "    </tr>\n",
       "  </tbody>\n",
       "</table>\n",
       "</div>"
      ],
      "text/plain": [
       "                  Product        Price  \\\n",
       "0             GLUCERNA \\n   3200 birr    \n",
       "1          MIELLE  OIL \\n   2500 birr    \n",
       "2  now CASTOR OIL 473ML\\n   4000 birr    \n",
       "3     DAY & NIGHT QUIL \\n  2200 birr\\n   \n",
       "4                                        \n",
       "\n",
       "                                             Address  \\\n",
       "0  Infront of Bole Medhanialem high school \\nOpen...   \n",
       "1  Infront of Bole Medhanialem high school \\nOpen...   \n",
       "2  Infront of Bole Medhanialem high school \\nOpen...   \n",
       "3  Infront of Bole Medhanialem high school \\nOpen...   \n",
       "4                                                      \n",
       "\n",
       "                   Phone Number   Channel Usernamae  \\\n",
       "0  0911562031/0911587703\\nAdres  @lobelia4cosmetics   \n",
       "1  0911562031/0911587703\\nAdres  @lobelia4cosmetics   \n",
       "2  0911562031/0911587703\\nAdres  @lobelia4cosmetics   \n",
       "3  0911562031/0911587703\\nAdres  @lobelia4cosmetics   \n",
       "4                                @lobelia4cosmetics   \n",
       "\n",
       "                                     Message Cleaned                Date  \\\n",
       "0  GLUCERNA \\nPrice 3200 birr \\nTelegram https://... 2024-07-10 12:26:19   \n",
       "1  MIELLE  OIL \\nPrice 2500 birr \\nTelegram https... 2024-07-10 12:27:02   \n",
       "2  now CASTOR OIL 473ML\\nPrice 4000 birr \\nTelegr... 2024-07-10 12:27:03   \n",
       "3  DAY & NIGHT QUIL \\nPrice 2200 birr\\nTelegram h... 2024-07-10 12:27:03   \n",
       "4                                                    2024-07-10 12:27:03   \n",
       "\n",
       "                                 Media Path     ID  \n",
       "0  data/photos\\@lobelia4cosmetics_10013.jpg  10013  \n",
       "1  data/photos\\@lobelia4cosmetics_10014.jpg  10014  \n",
       "2  data/photos\\@lobelia4cosmetics_10015.jpg  10015  \n",
       "3  data/photos\\@lobelia4cosmetics_10016.jpg  10016  \n",
       "4  data/photos\\@lobelia4cosmetics_10017.jpg  10017  "
      ]
     },
     "execution_count": 4,
     "metadata": {},
     "output_type": "execute_result"
    }
   ],
   "source": [
    "data = pd.DataFrame(data, columns=['Product', 'Price', 'Address', 'Phone Number', 'Channel Usernamae', 'Message Cleaned', 'Date', 'Media Path', 'ID'])\n",
    "data.head()"
   ]
  },
  {
   "cell_type": "code",
   "execution_count": 10,
   "metadata": {},
   "outputs": [],
   "source": [
    "# In my case the data file is stored outside of the notebook folder so I need to run the command below\n",
    "os.chdir(\"..\")"
   ]
  },
  {
   "cell_type": "code",
   "execution_count": 19,
   "metadata": {},
   "outputs": [],
   "source": [
    "# this will list all the photos that are scraped\n",
    "os.chdir(\"data/photos\")\n",
    "photos = os.listdir()"
   ]
  },
  {
   "cell_type": "code",
   "execution_count": 41,
   "metadata": {},
   "outputs": [],
   "source": [
    "# From all the list of photos that are scraped this will save the photos that are only found in the database\n",
    "for photo in photos:\n",
    "    path = \"data/photos\" + \"\\\\\" + photo\n",
    "    if path in data['Media Path'].values:\n",
    "        source = os.path.join(os.getcwd(), photo)\n",
    "        destination = \"Photos_for_YOLO\"\n",
    "        try:\n",
    "            shutil.copy(source, destination)\n",
    "            logger.info('Successfully copied the file')\n",
    "        except Exception as e:\n",
    "            logger.error(f\"Can not copy the file: {e}\")\n",
    "            \n",
    "logger.info('Finished copying the files')                    \n"
   ]
  }
 ],
 "metadata": {
  "kernelspec": {
   "display_name": ".venv",
   "language": "python",
   "name": "python3"
  },
  "language_info": {
   "codemirror_mode": {
    "name": "ipython",
    "version": 3
   },
   "file_extension": ".py",
   "mimetype": "text/x-python",
   "name": "python",
   "nbconvert_exporter": "python",
   "pygments_lexer": "ipython3",
   "version": "3.12.5"
  }
 },
 "nbformat": 4,
 "nbformat_minor": 2
}
