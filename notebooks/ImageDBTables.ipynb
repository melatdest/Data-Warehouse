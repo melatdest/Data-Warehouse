{
 "cells": [
  {
   "cell_type": "markdown",
   "metadata": {},
   "source": [
    "## Med Data warehouse"
   ]
  },
  {
   "cell_type": "markdown",
   "metadata": {},
   "source": [
    "### Preprocessing data\n",
    "  - This notebook is for creating a stuctured database tables with the detected image results"
   ]
  },
  {
   "cell_type": "markdown",
   "metadata": {},
   "source": [
    "#### Importing necessary libraries\n"
   ]
  },
  {
   "cell_type": "code",
   "execution_count": 1,
   "metadata": {},
   "outputs": [],
   "source": [
    "import os\n",
    "import sys\n",
    "\n",
    "import pandas as pd"
   ]
  },
  {
   "cell_type": "code",
   "execution_count": 2,
   "metadata": {},
   "outputs": [],
   "source": [
    "sys.path.append(os.path.abspath('../scripts'))\n",
    "from database import DbConn, DatabaseConn"
   ]
  },
  {
   "cell_type": "markdown",
   "metadata": {},
   "source": [
    "#### The results for the detected images"
   ]
  },
  {
   "cell_type": "code",
   "execution_count": 3,
   "metadata": {},
   "outputs": [],
   "source": [
    "detected_images = pd.read_csv('../data/detection_results.csv')"
   ]
  },
  {
   "cell_type": "code",
   "execution_count": 4,
   "metadata": {},
   "outputs": [
    {
     "data": {
      "text/html": [
       "<div>\n",
       "<style scoped>\n",
       "    .dataframe tbody tr th:only-of-type {\n",
       "        vertical-align: middle;\n",
       "    }\n",
       "\n",
       "    .dataframe tbody tr th {\n",
       "        vertical-align: top;\n",
       "    }\n",
       "\n",
       "    .dataframe thead th {\n",
       "        text-align: right;\n",
       "    }\n",
       "</style>\n",
       "<table border=\"1\" class=\"dataframe\">\n",
       "  <thead>\n",
       "    <tr style=\"text-align: right;\">\n",
       "      <th></th>\n",
       "      <th>Image</th>\n",
       "      <th>xmin</th>\n",
       "      <th>ymin</th>\n",
       "      <th>xmax</th>\n",
       "      <th>ymax</th>\n",
       "      <th>confidence</th>\n",
       "      <th>class</th>\n",
       "    </tr>\n",
       "  </thead>\n",
       "  <tbody>\n",
       "    <tr>\n",
       "      <th>0</th>\n",
       "      <td>@lobelia4cosmetics_11340.jpg</td>\n",
       "      <td>253.544296</td>\n",
       "      <td>6.880188</td>\n",
       "      <td>919.716980</td>\n",
       "      <td>1172.334717</td>\n",
       "      <td>0.870472</td>\n",
       "      <td>Supplements</td>\n",
       "    </tr>\n",
       "    <tr>\n",
       "      <th>1</th>\n",
       "      <td>@lobelia4cosmetics_11370.jpg</td>\n",
       "      <td>126.841553</td>\n",
       "      <td>9.094360</td>\n",
       "      <td>1199.680908</td>\n",
       "      <td>1230.457886</td>\n",
       "      <td>0.637349</td>\n",
       "      <td>Milk_Formula</td>\n",
       "    </tr>\n",
       "    <tr>\n",
       "      <th>2</th>\n",
       "      <td>@lobelia4cosmetics_11381.jpg</td>\n",
       "      <td>187.824158</td>\n",
       "      <td>0.000000</td>\n",
       "      <td>967.715515</td>\n",
       "      <td>1280.000000</td>\n",
       "      <td>0.916270</td>\n",
       "      <td>Supplements</td>\n",
       "    </tr>\n",
       "    <tr>\n",
       "      <th>3</th>\n",
       "      <td>@lobelia4cosmetics_11356.jpg</td>\n",
       "      <td>182.825165</td>\n",
       "      <td>0.000000</td>\n",
       "      <td>1027.187500</td>\n",
       "      <td>1280.000000</td>\n",
       "      <td>0.661063</td>\n",
       "      <td>Food_packages</td>\n",
       "    </tr>\n",
       "    <tr>\n",
       "      <th>4</th>\n",
       "      <td>@lobelia4cosmetics_11329.jpg</td>\n",
       "      <td>168.980850</td>\n",
       "      <td>24.522741</td>\n",
       "      <td>1006.682129</td>\n",
       "      <td>1159.659790</td>\n",
       "      <td>0.610535</td>\n",
       "      <td>Milk_Formula</td>\n",
       "    </tr>\n",
       "  </tbody>\n",
       "</table>\n",
       "</div>"
      ],
      "text/plain": [
       "                          Image        xmin       ymin         xmax  \\\n",
       "0  @lobelia4cosmetics_11340.jpg  253.544296   6.880188   919.716980   \n",
       "1  @lobelia4cosmetics_11370.jpg  126.841553   9.094360  1199.680908   \n",
       "2  @lobelia4cosmetics_11381.jpg  187.824158   0.000000   967.715515   \n",
       "3  @lobelia4cosmetics_11356.jpg  182.825165   0.000000  1027.187500   \n",
       "4  @lobelia4cosmetics_11329.jpg  168.980850  24.522741  1006.682129   \n",
       "\n",
       "          ymax  confidence          class  \n",
       "0  1172.334717    0.870472    Supplements  \n",
       "1  1230.457886    0.637349   Milk_Formula  \n",
       "2  1280.000000    0.916270    Supplements  \n",
       "3  1280.000000    0.661063  Food_packages  \n",
       "4  1159.659790    0.610535   Milk_Formula  "
      ]
     },
     "execution_count": 4,
     "metadata": {},
     "output_type": "execute_result"
    }
   ],
   "source": [
    "detected_images.head()"
   ]
  },
  {
   "cell_type": "code",
   "execution_count": 5,
   "metadata": {},
   "outputs": [
    {
     "data": {
      "text/plain": [
       "(2541, 7)"
      ]
     },
     "execution_count": 5,
     "metadata": {},
     "output_type": "execute_result"
    }
   ],
   "source": [
    "detected_images.shape"
   ]
  },
  {
   "cell_type": "markdown",
   "metadata": {},
   "source": [
    "#### Cleaned data from our database"
   ]
  },
  {
   "cell_type": "code",
   "execution_count": 6,
   "metadata": {},
   "outputs": [],
   "source": [
    "dbconn = DbConn()\n",
    "db_data = dbconn.read_data('MedData_Transformed')"
   ]
  },
  {
   "cell_type": "code",
   "execution_count": 7,
   "metadata": {},
   "outputs": [
    {
     "data": {
      "text/html": [
       "<div>\n",
       "<style scoped>\n",
       "    .dataframe tbody tr th:only-of-type {\n",
       "        vertical-align: middle;\n",
       "    }\n",
       "\n",
       "    .dataframe tbody tr th {\n",
       "        vertical-align: top;\n",
       "    }\n",
       "\n",
       "    .dataframe thead th {\n",
       "        text-align: right;\n",
       "    }\n",
       "</style>\n",
       "<table border=\"1\" class=\"dataframe\">\n",
       "  <thead>\n",
       "    <tr style=\"text-align: right;\">\n",
       "      <th></th>\n",
       "      <th>Product</th>\n",
       "      <th>Price</th>\n",
       "      <th>Address</th>\n",
       "      <th>Tellno</th>\n",
       "      <th>Channel_username</th>\n",
       "      <th>Message</th>\n",
       "      <th>Date</th>\n",
       "      <th>Media_path</th>\n",
       "      <th>ID</th>\n",
       "    </tr>\n",
       "  </thead>\n",
       "  <tbody>\n",
       "    <tr>\n",
       "      <th>0</th>\n",
       "      <td>GLUCERNA \\n</td>\n",
       "      <td>3200 birr</td>\n",
       "      <td>Infront of Bole Medhanialem high school \\nOpen...</td>\n",
       "      <td>0911562031/0911587703\\nAdres</td>\n",
       "      <td>@lobelia4cosmetics</td>\n",
       "      <td>GLUCERNA \\nPrice 3200 birr \\nTelegram https://...</td>\n",
       "      <td>2024-07-10 12:26:19</td>\n",
       "      <td>data/photos\\@lobelia4cosmetics_10013.jpg</td>\n",
       "      <td>10013</td>\n",
       "    </tr>\n",
       "    <tr>\n",
       "      <th>1</th>\n",
       "      <td>MIELLE  OIL \\n</td>\n",
       "      <td>2500 birr</td>\n",
       "      <td>Infront of Bole Medhanialem high school \\nOpen...</td>\n",
       "      <td>0911562031/0911587703\\nAdres</td>\n",
       "      <td>@lobelia4cosmetics</td>\n",
       "      <td>MIELLE  OIL \\nPrice 2500 birr \\nTelegram https...</td>\n",
       "      <td>2024-07-10 12:27:02</td>\n",
       "      <td>data/photos\\@lobelia4cosmetics_10014.jpg</td>\n",
       "      <td>10014</td>\n",
       "    </tr>\n",
       "    <tr>\n",
       "      <th>2</th>\n",
       "      <td>now CASTOR OIL 473ML\\n</td>\n",
       "      <td>4000 birr</td>\n",
       "      <td>Infront of Bole Medhanialem high school \\nOpen...</td>\n",
       "      <td>0911562031/0911587703\\nAdres</td>\n",
       "      <td>@lobelia4cosmetics</td>\n",
       "      <td>now CASTOR OIL 473ML\\nPrice 4000 birr \\nTelegr...</td>\n",
       "      <td>2024-07-10 12:27:03</td>\n",
       "      <td>data/photos\\@lobelia4cosmetics_10015.jpg</td>\n",
       "      <td>10015</td>\n",
       "    </tr>\n",
       "    <tr>\n",
       "      <th>3</th>\n",
       "      <td>DAY &amp; NIGHT QUIL \\n</td>\n",
       "      <td>2200 birr\\n</td>\n",
       "      <td>Infront of Bole Medhanialem high school \\nOpen...</td>\n",
       "      <td>0911562031/0911587703\\nAdres</td>\n",
       "      <td>@lobelia4cosmetics</td>\n",
       "      <td>DAY &amp; NIGHT QUIL \\nPrice 2200 birr\\nTelegram h...</td>\n",
       "      <td>2024-07-10 12:27:03</td>\n",
       "      <td>data/photos\\@lobelia4cosmetics_10016.jpg</td>\n",
       "      <td>10016</td>\n",
       "    </tr>\n",
       "    <tr>\n",
       "      <th>4</th>\n",
       "      <td></td>\n",
       "      <td></td>\n",
       "      <td></td>\n",
       "      <td></td>\n",
       "      <td>@lobelia4cosmetics</td>\n",
       "      <td></td>\n",
       "      <td>2024-07-10 12:27:03</td>\n",
       "      <td>data/photos\\@lobelia4cosmetics_10017.jpg</td>\n",
       "      <td>10017</td>\n",
       "    </tr>\n",
       "  </tbody>\n",
       "</table>\n",
       "</div>"
      ],
      "text/plain": [
       "                  Product        Price  \\\n",
       "0             GLUCERNA \\n   3200 birr    \n",
       "1          MIELLE  OIL \\n   2500 birr    \n",
       "2  now CASTOR OIL 473ML\\n   4000 birr    \n",
       "3     DAY & NIGHT QUIL \\n  2200 birr\\n   \n",
       "4                                        \n",
       "\n",
       "                                             Address  \\\n",
       "0  Infront of Bole Medhanialem high school \\nOpen...   \n",
       "1  Infront of Bole Medhanialem high school \\nOpen...   \n",
       "2  Infront of Bole Medhanialem high school \\nOpen...   \n",
       "3  Infront of Bole Medhanialem high school \\nOpen...   \n",
       "4                                                      \n",
       "\n",
       "                         Tellno    Channel_username  \\\n",
       "0  0911562031/0911587703\\nAdres  @lobelia4cosmetics   \n",
       "1  0911562031/0911587703\\nAdres  @lobelia4cosmetics   \n",
       "2  0911562031/0911587703\\nAdres  @lobelia4cosmetics   \n",
       "3  0911562031/0911587703\\nAdres  @lobelia4cosmetics   \n",
       "4                                @lobelia4cosmetics   \n",
       "\n",
       "                                             Message                Date  \\\n",
       "0  GLUCERNA \\nPrice 3200 birr \\nTelegram https://... 2024-07-10 12:26:19   \n",
       "1  MIELLE  OIL \\nPrice 2500 birr \\nTelegram https... 2024-07-10 12:27:02   \n",
       "2  now CASTOR OIL 473ML\\nPrice 4000 birr \\nTelegr... 2024-07-10 12:27:03   \n",
       "3  DAY & NIGHT QUIL \\nPrice 2200 birr\\nTelegram h... 2024-07-10 12:27:03   \n",
       "4                                                    2024-07-10 12:27:03   \n",
       "\n",
       "                                 Media_path     ID  \n",
       "0  data/photos\\@lobelia4cosmetics_10013.jpg  10013  \n",
       "1  data/photos\\@lobelia4cosmetics_10014.jpg  10014  \n",
       "2  data/photos\\@lobelia4cosmetics_10015.jpg  10015  \n",
       "3  data/photos\\@lobelia4cosmetics_10016.jpg  10016  \n",
       "4  data/photos\\@lobelia4cosmetics_10017.jpg  10017  "
      ]
     },
     "execution_count": 7,
     "metadata": {},
     "output_type": "execute_result"
    }
   ],
   "source": [
    "db_data = pd.DataFrame(db_data, columns=['Product', 'Price', 'Address', 'Tellno', 'Channel_username', 'Message', 'Date', 'Media_path', 'ID'])\n",
    "db_data.head()"
   ]
  },
  {
   "cell_type": "markdown",
   "metadata": {},
   "source": [
    "#### Further preprocessing"
   ]
  },
  {
   "cell_type": "code",
   "execution_count": 8,
   "metadata": {},
   "outputs": [],
   "source": [
    "db_data['Product'] = db_data['Product'].apply(lambda x: x.strip())\n",
    "db_data['Address'] = db_data['Address'].apply(lambda x: x.split('\\n')[0])\n",
    "db_data['Tellno'] = db_data['Tellno'].apply(lambda x: x.split('\\n')[0])\n",
    "db_data['Price'] = db_data['Price'].apply(lambda x: x.split(' birr')[0])\n",
    "# Selecting data that have prices for every product\n",
    "db_data = db_data[db_data['Price'].str.isnumeric()]"
   ]
  },
  {
   "cell_type": "code",
   "execution_count": 9,
   "metadata": {},
   "outputs": [
    {
     "data": {
      "text/html": [
       "<div>\n",
       "<style scoped>\n",
       "    .dataframe tbody tr th:only-of-type {\n",
       "        vertical-align: middle;\n",
       "    }\n",
       "\n",
       "    .dataframe tbody tr th {\n",
       "        vertical-align: top;\n",
       "    }\n",
       "\n",
       "    .dataframe thead th {\n",
       "        text-align: right;\n",
       "    }\n",
       "</style>\n",
       "<table border=\"1\" class=\"dataframe\">\n",
       "  <thead>\n",
       "    <tr style=\"text-align: right;\">\n",
       "      <th></th>\n",
       "      <th>Product</th>\n",
       "      <th>Price</th>\n",
       "      <th>Address</th>\n",
       "      <th>Tellno</th>\n",
       "      <th>Channel_username</th>\n",
       "      <th>Message</th>\n",
       "      <th>Date</th>\n",
       "      <th>Media_path</th>\n",
       "      <th>ID</th>\n",
       "    </tr>\n",
       "  </thead>\n",
       "  <tbody>\n",
       "    <tr>\n",
       "      <th>0</th>\n",
       "      <td>GLUCERNA</td>\n",
       "      <td>3200</td>\n",
       "      <td>Infront of Bole Medhanialem high school</td>\n",
       "      <td>0911562031/0911587703</td>\n",
       "      <td>@lobelia4cosmetics</td>\n",
       "      <td>GLUCERNA \\nPrice 3200 birr \\nTelegram https://...</td>\n",
       "      <td>2024-07-10 12:26:19</td>\n",
       "      <td>data/photos\\@lobelia4cosmetics_10013.jpg</td>\n",
       "      <td>10013</td>\n",
       "    </tr>\n",
       "    <tr>\n",
       "      <th>1</th>\n",
       "      <td>MIELLE  OIL</td>\n",
       "      <td>2500</td>\n",
       "      <td>Infront of Bole Medhanialem high school</td>\n",
       "      <td>0911562031/0911587703</td>\n",
       "      <td>@lobelia4cosmetics</td>\n",
       "      <td>MIELLE  OIL \\nPrice 2500 birr \\nTelegram https...</td>\n",
       "      <td>2024-07-10 12:27:02</td>\n",
       "      <td>data/photos\\@lobelia4cosmetics_10014.jpg</td>\n",
       "      <td>10014</td>\n",
       "    </tr>\n",
       "    <tr>\n",
       "      <th>2</th>\n",
       "      <td>now CASTOR OIL 473ML</td>\n",
       "      <td>4000</td>\n",
       "      <td>Infront of Bole Medhanialem high school</td>\n",
       "      <td>0911562031/0911587703</td>\n",
       "      <td>@lobelia4cosmetics</td>\n",
       "      <td>now CASTOR OIL 473ML\\nPrice 4000 birr \\nTelegr...</td>\n",
       "      <td>2024-07-10 12:27:03</td>\n",
       "      <td>data/photos\\@lobelia4cosmetics_10015.jpg</td>\n",
       "      <td>10015</td>\n",
       "    </tr>\n",
       "    <tr>\n",
       "      <th>3</th>\n",
       "      <td>DAY &amp; NIGHT QUIL</td>\n",
       "      <td>2200</td>\n",
       "      <td>Infront of Bole Medhanialem high school</td>\n",
       "      <td>0911562031/0911587703</td>\n",
       "      <td>@lobelia4cosmetics</td>\n",
       "      <td>DAY &amp; NIGHT QUIL \\nPrice 2200 birr\\nTelegram h...</td>\n",
       "      <td>2024-07-10 12:27:03</td>\n",
       "      <td>data/photos\\@lobelia4cosmetics_10016.jpg</td>\n",
       "      <td>10016</td>\n",
       "    </tr>\n",
       "    <tr>\n",
       "      <th>5</th>\n",
       "      <td>ENFAMIL AR 354GM</td>\n",
       "      <td>4200</td>\n",
       "      <td>Infront of Bole Medhanialem high school</td>\n",
       "      <td>0911562031/0911587703</td>\n",
       "      <td>@lobelia4cosmetics</td>\n",
       "      <td>ENFAMIL AR 354GM \\nPrice 4200 birr \\nTelegram ...</td>\n",
       "      <td>2024-07-10 12:27:03</td>\n",
       "      <td>data/photos\\@lobelia4cosmetics_10019.jpg</td>\n",
       "      <td>10019</td>\n",
       "    </tr>\n",
       "  </tbody>\n",
       "</table>\n",
       "</div>"
      ],
      "text/plain": [
       "                Product Price                                   Address  \\\n",
       "0              GLUCERNA  3200  Infront of Bole Medhanialem high school    \n",
       "1           MIELLE  OIL  2500  Infront of Bole Medhanialem high school    \n",
       "2  now CASTOR OIL 473ML  4000  Infront of Bole Medhanialem high school    \n",
       "3      DAY & NIGHT QUIL  2200  Infront of Bole Medhanialem high school    \n",
       "5      ENFAMIL AR 354GM  4200  Infront of Bole Medhanialem high school    \n",
       "\n",
       "                  Tellno    Channel_username  \\\n",
       "0  0911562031/0911587703  @lobelia4cosmetics   \n",
       "1  0911562031/0911587703  @lobelia4cosmetics   \n",
       "2  0911562031/0911587703  @lobelia4cosmetics   \n",
       "3  0911562031/0911587703  @lobelia4cosmetics   \n",
       "5  0911562031/0911587703  @lobelia4cosmetics   \n",
       "\n",
       "                                             Message                Date  \\\n",
       "0  GLUCERNA \\nPrice 3200 birr \\nTelegram https://... 2024-07-10 12:26:19   \n",
       "1  MIELLE  OIL \\nPrice 2500 birr \\nTelegram https... 2024-07-10 12:27:02   \n",
       "2  now CASTOR OIL 473ML\\nPrice 4000 birr \\nTelegr... 2024-07-10 12:27:03   \n",
       "3  DAY & NIGHT QUIL \\nPrice 2200 birr\\nTelegram h... 2024-07-10 12:27:03   \n",
       "5  ENFAMIL AR 354GM \\nPrice 4200 birr \\nTelegram ... 2024-07-10 12:27:03   \n",
       "\n",
       "                                 Media_path     ID  \n",
       "0  data/photos\\@lobelia4cosmetics_10013.jpg  10013  \n",
       "1  data/photos\\@lobelia4cosmetics_10014.jpg  10014  \n",
       "2  data/photos\\@lobelia4cosmetics_10015.jpg  10015  \n",
       "3  data/photos\\@lobelia4cosmetics_10016.jpg  10016  \n",
       "5  data/photos\\@lobelia4cosmetics_10019.jpg  10019  "
      ]
     },
     "execution_count": 9,
     "metadata": {},
     "output_type": "execute_result"
    }
   ],
   "source": [
    "db_data.head()"
   ]
  },
  {
   "cell_type": "markdown",
   "metadata": {},
   "source": [
    "**Observation**\n",
    "- Even after further cleaning there are some columns that are null and I did not drop these columns because they contain data that could be detected by YOLO"
   ]
  },
  {
   "cell_type": "code",
   "execution_count": 10,
   "metadata": {},
   "outputs": [],
   "source": [
    "# Extracting ID from the detection results table to create relation with other tables\n",
    "detected_images['ID'] = detected_images['Image'].apply(lambda x: x.split('_')[1].split('.')[0])\n",
    "detected_images.loc[:, 'ID'] = detected_images['ID'].astype('int64')\n",
    "detected_images = detected_images.drop_duplicates(subset=['ID'], keep='first')"
   ]
  },
  {
   "cell_type": "code",
   "execution_count": 11,
   "metadata": {},
   "outputs": [],
   "source": [
    "# Creating Products tabel\n",
    "Ids = detected_images['ID'].values\n",
    "product_col = ['Product', 'Price', 'Address', 'Tellno', 'ID']\n",
    "Products = db_data[product_col]\n",
    "Products = Products[Products['ID'].isin(Ids)]\n",
    "Products.set_index('ID', inplace=True)"
   ]
  },
  {
   "cell_type": "code",
   "execution_count": 12,
   "metadata": {},
   "outputs": [],
   "source": [
    "# Creating a table that is only related to Telegram\n",
    "Ids = detected_images['ID'].values\n",
    "telegram_col = ['Channel_username', 'Message', 'Date', 'Media_path', 'ID']\n",
    "Telegram = db_data[telegram_col]\n",
    "Telegram = Telegram[Telegram['ID'].isin(Ids)]\n",
    "Telegram.set_index('ID', inplace=True)"
   ]
  },
  {
   "cell_type": "code",
   "execution_count": 13,
   "metadata": {},
   "outputs": [],
   "source": [
    "# This is to select only the images that are detected and are found in the above cleaned tables from the database\n",
    "Ids = Products.index\n",
    "detected_images = detected_images[detected_images['ID'].isin(Ids)]\n",
    "detected_images.set_index('ID', inplace=True)\n",
    "detected_images.columns = ['Image', 'x_min', 'y_min', 'x_max', 'y_max', 'confidence', 'label']"
   ]
  },
  {
   "cell_type": "code",
   "execution_count": 14,
   "metadata": {},
   "outputs": [
    {
     "data": {
      "text/plain": [
       "((1901, 4), (1901, 7), (1901, 4))"
      ]
     },
     "execution_count": 14,
     "metadata": {},
     "output_type": "execute_result"
    }
   ],
   "source": [
    "Products.shape, detected_images.shape, Telegram.shape"
   ]
  },
  {
   "cell_type": "code",
   "execution_count": 15,
   "metadata": {},
   "outputs": [],
   "source": [
    "databaseConn = DatabaseConn()\n",
    "databaseConn.insert_dataframe_data('Products', Products)\n",
    "databaseConn.insert_dataframe_data('Telegram', Telegram)\n",
    "databaseConn.insert_dataframe_data('detected_images', detected_images)"
   ]
  }
 ],
 "metadata": {
  "kernelspec": {
   "display_name": ".venv",
   "language": "python",
   "name": "python3"
  },
  "language_info": {
   "codemirror_mode": {
    "name": "ipython",
    "version": 3
   },
   "file_extension": ".py",
   "mimetype": "text/x-python",
   "name": "python",
   "nbconvert_exporter": "python",
   "pygments_lexer": "ipython3",
   "version": "3.12.5"
  }
 },
 "nbformat": 4,
 "nbformat_minor": 2
}
